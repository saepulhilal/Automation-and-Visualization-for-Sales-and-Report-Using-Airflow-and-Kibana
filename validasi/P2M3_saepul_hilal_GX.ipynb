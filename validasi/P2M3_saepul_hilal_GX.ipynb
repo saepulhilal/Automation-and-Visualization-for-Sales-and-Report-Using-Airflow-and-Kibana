{
 "cells": [
  {
   "cell_type": "markdown",
   "metadata": {},
   "source": [
    "Nama : Saepul Hilal\n",
    "\n",
    "Batch : HCK - 010\n",
    "\n",
    "File ini bertujuan untuk melakukan pengujian validasi dengan menggunakan Great Expectations"
   ]
  },
  {
   "cell_type": "markdown",
   "metadata": {},
   "source": [
    "---"
   ]
  },
  {
   "cell_type": "code",
   "execution_count": 1,
   "metadata": {},
   "outputs": [],
   "source": [
    "# Create a data context\n",
    "\n",
    "from great_expectations.data_context import FileDataContext\n",
    "\n",
    "context = FileDataContext.create(project_root_dir='./')"
   ]
  },
  {
   "cell_type": "code",
   "execution_count": 2,
   "metadata": {},
   "outputs": [],
   "source": [
    "# Give a name to a Datasource. This name must be unique between Datasources.\n",
    "datasource_name = 'csv-data-sales-adidas'\n",
    "datasource = context.sources.add_pandas(datasource_name)\n",
    "\n",
    "# Give a name to a data asset\n",
    "asset_name = 'sales-adidas'\n",
    "path_to_data = '/Users/saepulhilal/Hacktiv8/PHASE 2/p2-ftds010-hck-m3-saepulhilal/airflow/data/P2M3_saepul_hilal_data_clean.csv'\n",
    "asset = datasource.add_csv_asset(asset_name, filepath_or_buffer=path_to_data)\n",
    "\n",
    "# Build batch request\n",
    "batch_request = asset.build_batch_request()"
   ]
  },
  {
   "cell_type": "code",
   "execution_count": 3,
   "metadata": {},
   "outputs": [
    {
     "data": {
      "application/vnd.jupyter.widget-view+json": {
       "model_id": "158dc29c2c704043a3f594290328d24f",
       "version_major": 2,
       "version_minor": 0
      },
      "text/plain": [
       "Calculating Metrics:   0%|          | 0/1 [00:00<?, ?it/s]"
      ]
     },
     "metadata": {},
     "output_type": "display_data"
    },
    {
     "data": {
      "text/html": [
       "<div>\n",
       "<style scoped>\n",
       "    .dataframe tbody tr th:only-of-type {\n",
       "        vertical-align: middle;\n",
       "    }\n",
       "\n",
       "    .dataframe tbody tr th {\n",
       "        vertical-align: top;\n",
       "    }\n",
       "\n",
       "    .dataframe thead th {\n",
       "        text-align: right;\n",
       "    }\n",
       "</style>\n",
       "<table border=\"1\" class=\"dataframe\">\n",
       "  <thead>\n",
       "    <tr style=\"text-align: right;\">\n",
       "      <th></th>\n",
       "      <th>index</th>\n",
       "      <th>retailer</th>\n",
       "      <th>retailer_id</th>\n",
       "      <th>invoice_date</th>\n",
       "      <th>region</th>\n",
       "      <th>state</th>\n",
       "      <th>city</th>\n",
       "      <th>product</th>\n",
       "      <th>price_per_unit</th>\n",
       "      <th>units_sold</th>\n",
       "      <th>total_sales</th>\n",
       "      <th>operating_profit</th>\n",
       "      <th>operating_margin</th>\n",
       "      <th>sales_method</th>\n",
       "    </tr>\n",
       "  </thead>\n",
       "  <tbody>\n",
       "    <tr>\n",
       "      <th>0</th>\n",
       "      <td>0</td>\n",
       "      <td>Foot Locker</td>\n",
       "      <td>1185732</td>\n",
       "      <td>2020-01-01</td>\n",
       "      <td>Northeast</td>\n",
       "      <td>New York</td>\n",
       "      <td>New York</td>\n",
       "      <td>Men's Street Footwear</td>\n",
       "      <td>50.0</td>\n",
       "      <td>1200</td>\n",
       "      <td>600000.0</td>\n",
       "      <td>300000.0</td>\n",
       "      <td>0.50</td>\n",
       "      <td>In-store</td>\n",
       "    </tr>\n",
       "    <tr>\n",
       "      <th>1</th>\n",
       "      <td>1</td>\n",
       "      <td>Foot Locker</td>\n",
       "      <td>1185732</td>\n",
       "      <td>2020-01-02</td>\n",
       "      <td>Northeast</td>\n",
       "      <td>New York</td>\n",
       "      <td>New York</td>\n",
       "      <td>Men's Athletic Footwear</td>\n",
       "      <td>50.0</td>\n",
       "      <td>1000</td>\n",
       "      <td>500000.0</td>\n",
       "      <td>150000.0</td>\n",
       "      <td>0.30</td>\n",
       "      <td>In-store</td>\n",
       "    </tr>\n",
       "    <tr>\n",
       "      <th>2</th>\n",
       "      <td>2</td>\n",
       "      <td>Foot Locker</td>\n",
       "      <td>1185732</td>\n",
       "      <td>2020-01-03</td>\n",
       "      <td>Northeast</td>\n",
       "      <td>New York</td>\n",
       "      <td>New York</td>\n",
       "      <td>Women's Street Footwear</td>\n",
       "      <td>40.0</td>\n",
       "      <td>1000</td>\n",
       "      <td>400000.0</td>\n",
       "      <td>140000.0</td>\n",
       "      <td>0.35</td>\n",
       "      <td>In-store</td>\n",
       "    </tr>\n",
       "    <tr>\n",
       "      <th>3</th>\n",
       "      <td>3</td>\n",
       "      <td>Foot Locker</td>\n",
       "      <td>1185732</td>\n",
       "      <td>2020-01-04</td>\n",
       "      <td>Northeast</td>\n",
       "      <td>New York</td>\n",
       "      <td>New York</td>\n",
       "      <td>Women's Athletic Footwear</td>\n",
       "      <td>45.0</td>\n",
       "      <td>850</td>\n",
       "      <td>382500.0</td>\n",
       "      <td>133875.0</td>\n",
       "      <td>0.35</td>\n",
       "      <td>In-store</td>\n",
       "    </tr>\n",
       "    <tr>\n",
       "      <th>4</th>\n",
       "      <td>4</td>\n",
       "      <td>Foot Locker</td>\n",
       "      <td>1185732</td>\n",
       "      <td>2020-01-05</td>\n",
       "      <td>Northeast</td>\n",
       "      <td>New York</td>\n",
       "      <td>New York</td>\n",
       "      <td>Men's Apparel</td>\n",
       "      <td>60.0</td>\n",
       "      <td>900</td>\n",
       "      <td>540000.0</td>\n",
       "      <td>162000.0</td>\n",
       "      <td>0.30</td>\n",
       "      <td>In-store</td>\n",
       "    </tr>\n",
       "  </tbody>\n",
       "</table>\n",
       "</div>"
      ],
      "text/plain": [
       "   index     retailer  retailer_id invoice_date     region     state  \\\n",
       "0      0  Foot Locker      1185732   2020-01-01  Northeast  New York   \n",
       "1      1  Foot Locker      1185732   2020-01-02  Northeast  New York   \n",
       "2      2  Foot Locker      1185732   2020-01-03  Northeast  New York   \n",
       "3      3  Foot Locker      1185732   2020-01-04  Northeast  New York   \n",
       "4      4  Foot Locker      1185732   2020-01-05  Northeast  New York   \n",
       "\n",
       "       city                    product  price_per_unit  units_sold  \\\n",
       "0  New York      Men's Street Footwear            50.0        1200   \n",
       "1  New York    Men's Athletic Footwear            50.0        1000   \n",
       "2  New York    Women's Street Footwear            40.0        1000   \n",
       "3  New York  Women's Athletic Footwear            45.0         850   \n",
       "4  New York              Men's Apparel            60.0         900   \n",
       "\n",
       "   total_sales  operating_profit  operating_margin sales_method  \n",
       "0     600000.0          300000.0              0.50     In-store  \n",
       "1     500000.0          150000.0              0.30     In-store  \n",
       "2     400000.0          140000.0              0.35     In-store  \n",
       "3     382500.0          133875.0              0.35     In-store  \n",
       "4     540000.0          162000.0              0.30     In-store  "
      ]
     },
     "execution_count": 3,
     "metadata": {},
     "output_type": "execute_result"
    }
   ],
   "source": [
    "# Creat an expectation suite\n",
    "expectation_suite_name = 'expectation-adidas-sales-dataset'\n",
    "context.add_or_update_expectation_suite(expectation_suite_name)\n",
    "\n",
    "# Create a validator using above expectation suite\n",
    "validator = context.get_validator(\n",
    "    batch_request = batch_request,\n",
    "    expectation_suite_name = expectation_suite_name\n",
    ")\n",
    "\n",
    "# Check the validator\n",
    "validator.head()"
   ]
  },
  {
   "cell_type": "code",
   "execution_count": 4,
   "metadata": {},
   "outputs": [
    {
     "data": {
      "application/vnd.jupyter.widget-view+json": {
       "model_id": "d3df2e58f0324f8f80dbca0825c90f98",
       "version_major": 2,
       "version_minor": 0
      },
      "text/plain": [
       "Calculating Metrics:   0%|          | 0/8 [00:00<?, ?it/s]"
      ]
     },
     "metadata": {},
     "output_type": "display_data"
    },
    {
     "data": {
      "text/plain": [
       "{\n",
       "  \"success\": true,\n",
       "  \"result\": {\n",
       "    \"element_count\": 9648,\n",
       "    \"unexpected_count\": 0,\n",
       "    \"unexpected_percent\": 0.0,\n",
       "    \"partial_unexpected_list\": [],\n",
       "    \"missing_count\": 0,\n",
       "    \"missing_percent\": 0.0,\n",
       "    \"unexpected_percent_total\": 0.0,\n",
       "    \"unexpected_percent_nonmissing\": 0.0\n",
       "  },\n",
       "  \"meta\": {},\n",
       "  \"exception_info\": {\n",
       "    \"raised_exception\": false,\n",
       "    \"exception_traceback\": null,\n",
       "    \"exception_message\": null\n",
       "  }\n",
       "}"
      ]
     },
     "execution_count": 4,
     "metadata": {},
     "output_type": "execute_result"
    }
   ],
   "source": [
    "# Expectation 1 : Column `index` can not contain duplicate values\n",
    "\n",
    "validator.expect_column_values_to_be_unique('index')"
   ]
  },
  {
   "cell_type": "code",
   "execution_count": 5,
   "metadata": {},
   "outputs": [
    {
     "data": {
      "application/vnd.jupyter.widget-view+json": {
       "model_id": "7d116d8f538b4d59ba8a080dfe023396",
       "version_major": 2,
       "version_minor": 0
      },
      "text/plain": [
       "Calculating Metrics:   0%|          | 0/8 [00:00<?, ?it/s]"
      ]
     },
     "metadata": {},
     "output_type": "display_data"
    },
    {
     "data": {
      "text/plain": [
       "{\n",
       "  \"success\": true,\n",
       "  \"result\": {\n",
       "    \"element_count\": 9648,\n",
       "    \"unexpected_count\": 0,\n",
       "    \"unexpected_percent\": 0.0,\n",
       "    \"partial_unexpected_list\": [],\n",
       "    \"missing_count\": 0,\n",
       "    \"missing_percent\": 0.0,\n",
       "    \"unexpected_percent_total\": 0.0,\n",
       "    \"unexpected_percent_nonmissing\": 0.0\n",
       "  },\n",
       "  \"meta\": {},\n",
       "  \"exception_info\": {\n",
       "    \"raised_exception\": false,\n",
       "    \"exception_traceback\": null,\n",
       "    \"exception_message\": null\n",
       "  }\n",
       "}"
      ]
     },
     "execution_count": 5,
     "metadata": {},
     "output_type": "execute_result"
    }
   ],
   "source": [
    "# Expectation 2 : Column `index` can not contain duplicate values\n",
    "\n",
    "validator.expect_column_values_to_be_between(column='price_per_unit',min_value=7.0,max_value=110.0)"
   ]
  },
  {
   "cell_type": "code",
   "execution_count": 6,
   "metadata": {},
   "outputs": [
    {
     "data": {
      "application/vnd.jupyter.widget-view+json": {
       "model_id": "13f725a7b2b741b1af625a03a6669f68",
       "version_major": 2,
       "version_minor": 0
      },
      "text/plain": [
       "Calculating Metrics:   0%|          | 0/8 [00:00<?, ?it/s]"
      ]
     },
     "metadata": {},
     "output_type": "display_data"
    },
    {
     "data": {
      "text/plain": [
       "{\n",
       "  \"success\": true,\n",
       "  \"result\": {\n",
       "    \"element_count\": 9648,\n",
       "    \"unexpected_count\": 0,\n",
       "    \"unexpected_percent\": 0.0,\n",
       "    \"partial_unexpected_list\": [],\n",
       "    \"missing_count\": 0,\n",
       "    \"missing_percent\": 0.0,\n",
       "    \"unexpected_percent_total\": 0.0,\n",
       "    \"unexpected_percent_nonmissing\": 0.0\n",
       "  },\n",
       "  \"meta\": {},\n",
       "  \"exception_info\": {\n",
       "    \"raised_exception\": false,\n",
       "    \"exception_traceback\": null,\n",
       "    \"exception_message\": null\n",
       "  }\n",
       "}"
      ]
     },
     "execution_count": 6,
     "metadata": {},
     "output_type": "execute_result"
    }
   ],
   "source": [
    "# Expectation 3 : Column `retailer` must contain one of the following 6 things :\n",
    "\n",
    "\n",
    "validator.expect_column_values_to_be_in_set('retailer', ['Foot Locker', 'Walmart', 'Sports Direct', 'West Gear', \"Kohl's\",\n",
    "       'Amazon'])"
   ]
  },
  {
   "cell_type": "code",
   "execution_count": 7,
   "metadata": {},
   "outputs": [
    {
     "data": {
      "application/vnd.jupyter.widget-view+json": {
       "model_id": "fe4e52d1ce544f12a69a0a26e6fd3f19",
       "version_major": 2,
       "version_minor": 0
      },
      "text/plain": [
       "Calculating Metrics:   0%|          | 0/1 [00:00<?, ?it/s]"
      ]
     },
     "metadata": {},
     "output_type": "display_data"
    },
    {
     "data": {
      "text/plain": [
       "{\n",
       "  \"success\": true,\n",
       "  \"result\": {\n",
       "    \"observed_value\": \"int64\"\n",
       "  },\n",
       "  \"meta\": {},\n",
       "  \"exception_info\": {\n",
       "    \"raised_exception\": false,\n",
       "    \"exception_traceback\": null,\n",
       "    \"exception_message\": null\n",
       "  }\n",
       "}"
      ]
     },
     "execution_count": 7,
     "metadata": {},
     "output_type": "execute_result"
    }
   ],
   "source": [
    "# Expectation 4 : Column `units_sold` must in form of int64\n",
    "\n",
    "validator.expect_column_values_to_be_in_type_list('units_sold', ['int64'])"
   ]
  },
  {
   "cell_type": "code",
   "execution_count": 8,
   "metadata": {},
   "outputs": [
    {
     "data": {
      "application/vnd.jupyter.widget-view+json": {
       "model_id": "32e920e3f44b475dab70bb1f8db6f1da",
       "version_major": 2,
       "version_minor": 0
      },
      "text/plain": [
       "Calculating Metrics:   0%|          | 0/8 [00:00<?, ?it/s]"
      ]
     },
     "metadata": {},
     "output_type": "display_data"
    },
    {
     "data": {
      "text/plain": [
       "{\n",
       "  \"success\": true,\n",
       "  \"result\": {\n",
       "    \"element_count\": 9648,\n",
       "    \"unexpected_count\": 0,\n",
       "    \"unexpected_percent\": 0.0,\n",
       "    \"partial_unexpected_list\": [],\n",
       "    \"missing_count\": 0,\n",
       "    \"missing_percent\": 0.0,\n",
       "    \"unexpected_percent_total\": 0.0,\n",
       "    \"unexpected_percent_nonmissing\": 0.0\n",
       "  },\n",
       "  \"meta\": {},\n",
       "  \"exception_info\": {\n",
       "    \"raised_exception\": false,\n",
       "    \"exception_traceback\": null,\n",
       "    \"exception_message\": null\n",
       "  }\n",
       "}"
      ]
     },
     "execution_count": 8,
     "metadata": {},
     "output_type": "execute_result"
    }
   ],
   "source": [
    "# Expectation 5 : Expect the column 'state' entries to be strings that match a given regular expression. :\n",
    "\n",
    "validator.expect_column_values_to_match_regex(column='state', regex=r'^[A-Z][a-z]+')"
   ]
  },
  {
   "cell_type": "code",
   "execution_count": 11,
   "metadata": {},
   "outputs": [
    {
     "data": {
      "application/vnd.jupyter.widget-view+json": {
       "model_id": "b370f439ff82431ea1138d83ce0e0473",
       "version_major": 2,
       "version_minor": 0
      },
      "text/plain": [
       "Calculating Metrics:   0%|          | 0/8 [00:00<?, ?it/s]"
      ]
     },
     "metadata": {},
     "output_type": "display_data"
    },
    {
     "data": {
      "text/plain": [
       "{\n",
       "  \"success\": true,\n",
       "  \"result\": {\n",
       "    \"element_count\": 9648,\n",
       "    \"unexpected_count\": 0,\n",
       "    \"unexpected_percent\": 0.0,\n",
       "    \"partial_unexpected_list\": [],\n",
       "    \"missing_count\": 0,\n",
       "    \"missing_percent\": 0.0,\n",
       "    \"unexpected_percent_total\": 0.0,\n",
       "    \"unexpected_percent_nonmissing\": 0.0\n",
       "  },\n",
       "  \"meta\": {},\n",
       "  \"exception_info\": {\n",
       "    \"raised_exception\": false,\n",
       "    \"exception_traceback\": null,\n",
       "    \"exception_message\": null\n",
       "  }\n",
       "}"
      ]
     },
     "execution_count": 11,
     "metadata": {},
     "output_type": "execute_result"
    }
   ],
   "source": [
    "# Expectation 6 : Expect the column \"invoice_date\" entries to be parsable using dateutil. :\n",
    "\n",
    "validator.expect_column_values_to_be_dateutil_parseable(\"invoice_date\")\n"
   ]
  },
  {
   "cell_type": "markdown",
   "metadata": {},
   "source": [
    "#### \"Expect column values to be between\" mengindikasikan harapan bahwa nilai-nilai dalam suatu kolom seharusnya berada dalam rentang tertentu, menunjukkan kebutuhan untuk validasi data dalam kolom tersebut.\n",
    "\n",
    "\n",
    "\n",
    "\n",
    "\n"
   ]
  },
  {
   "cell_type": "code",
   "execution_count": 14,
   "metadata": {},
   "outputs": [
    {
     "data": {
      "application/vnd.jupyter.widget-view+json": {
       "model_id": "247ab7d4d0ad46feb86b18b2b7eb5bea",
       "version_major": 2,
       "version_minor": 0
      },
      "text/plain": [
       "Calculating Metrics:   0%|          | 0/4 [00:00<?, ?it/s]"
      ]
     },
     "metadata": {},
     "output_type": "display_data"
    },
    {
     "data": {
      "text/plain": [
       "{\n",
       "  \"success\": true,\n",
       "  \"result\": {\n",
       "    \"observed_value\": 332134761.45000005\n",
       "  },\n",
       "  \"meta\": {},\n",
       "  \"exception_info\": {\n",
       "    \"raised_exception\": false,\n",
       "    \"exception_traceback\": null,\n",
       "    \"exception_message\": null\n",
       "  }\n",
       "}"
      ]
     },
     "execution_count": 14,
     "metadata": {},
     "output_type": "execute_result"
    }
   ],
   "source": [
    "# Expectation 7 : Expect the column 'operating_profit' to sum to be between a minimum value and a maximum value.. :\n",
    "\n",
    "validator.expect_column_sum_to_be_between('operating_profit',min_value=332134761.45000005)"
   ]
  },
  {
   "cell_type": "code",
   "execution_count": 15,
   "metadata": {},
   "outputs": [],
   "source": [
    "# Save into Expectation Suite\n",
    "\n",
    "validator.save_expectation_suite(discard_failed_expectations=False)"
   ]
  },
  {
   "cell_type": "code",
   "execution_count": 16,
   "metadata": {},
   "outputs": [],
   "source": [
    "# Create a checkpoint\n",
    "\n",
    "checkpoint_1 = context.add_or_update_checkpoint(\n",
    "    name = 'checkpoint_1',\n",
    "    validator = validator,\n",
    ")"
   ]
  },
  {
   "cell_type": "code",
   "execution_count": 17,
   "metadata": {},
   "outputs": [
    {
     "data": {
      "application/vnd.jupyter.widget-view+json": {
       "model_id": "565c6237ee9343b9a0bc401d27bf4f23",
       "version_major": 2,
       "version_minor": 0
      },
      "text/plain": [
       "Calculating Metrics:   0%|          | 0/39 [00:00<?, ?it/s]"
      ]
     },
     "metadata": {},
     "output_type": "display_data"
    }
   ],
   "source": [
    "# Run a checkpoint\n",
    "\n",
    "checkpoint_result = checkpoint_1.run()"
   ]
  },
  {
   "cell_type": "code",
   "execution_count": 18,
   "metadata": {},
   "outputs": [
    {
     "data": {
      "text/plain": [
       "{'local_site': 'file:///Users/saepulhilal/Hacktiv8/PHASE 2/p2-ftds010-hck-m3-saepulhilal/validasi/gx/uncommitted/data_docs/local_site/index.html'}"
      ]
     },
     "execution_count": 18,
     "metadata": {},
     "output_type": "execute_result"
    }
   ],
   "source": [
    "# Build data docs\n",
    "\n",
    "context.build_data_docs()"
   ]
  }
 ],
 "metadata": {
  "kernelspec": {
   "display_name": "base",
   "language": "python",
   "name": "python3"
  },
  "language_info": {
   "codemirror_mode": {
    "name": "ipython",
    "version": 3
   },
   "file_extension": ".py",
   "mimetype": "text/x-python",
   "name": "python",
   "nbconvert_exporter": "python",
   "pygments_lexer": "ipython3",
   "version": "3.11.4"
  }
 },
 "nbformat": 4,
 "nbformat_minor": 2
}
